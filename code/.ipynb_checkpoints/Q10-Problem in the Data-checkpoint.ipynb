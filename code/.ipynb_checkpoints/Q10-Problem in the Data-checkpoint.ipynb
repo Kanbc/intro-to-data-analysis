{
 "cells": [
  {
   "cell_type": "markdown",
   "metadata": {},
   "source": [
    "เปลี่ยน key จาก acct ไปเป็น account_key ในตาราง daily_engagement"
   ]
  },
  {
   "cell_type": "code",
   "execution_count": 10,
   "metadata": {},
   "outputs": [
    {
     "name": "stdout",
     "output_type": "stream",
     "text": [
      "0\n"
     ]
    }
   ],
   "source": [
    "import unicodecsv\n",
    "\n",
    "#read data from CSV file and make it to lists\n",
    "def read_csv(filename):\n",
    "    with open(filename, 'rb') as f:\n",
    "        reader = unicodecsv.DictReader(f)\n",
    "        return list(reader)\n",
    "\n",
    "new_daily_engagement = read_csv('../data/daily_engagement.csv')\n",
    "\n",
    "for data in new_daily_engagement: \n",
    "    # add 'account_key' key to this row     \n",
    "    data['account_key'] = data['acct']\n",
    "    # remove 'acct' key to this row     \n",
    "    del data['acct']\n",
    "\n",
    "daily_engagement = new_daily_engagement\n",
    "# print(new_daily_engagement[0])\n",
    "print(daily_engagement[0]['account_key'])"
   ]
  },
  {
   "cell_type": "markdown",
   "metadata": {
    "collapsed": true
   },
   "source": [
    "จากข้อนี้ ควรเปลี่ยน code for ใน Q3 เป็น function แล้วเรียกใช้ จะ clean กว่านะ"
   ]
  },
  {
   "cell_type": "code",
   "execution_count": null,
   "metadata": {
    "collapsed": true
   },
   "outputs": [],
   "source": []
  }
 ],
 "metadata": {
  "kernelspec": {
   "display_name": "Python 3",
   "language": "python",
   "name": "python3"
  },
  "language_info": {
   "codemirror_mode": {
    "name": "ipython",
    "version": 3
   },
   "file_extension": ".py",
   "mimetype": "text/x-python",
   "name": "python",
   "nbconvert_exporter": "python",
   "pygments_lexer": "ipython3",
   "version": "3.6.1"
  }
 },
 "nbformat": 4,
 "nbformat_minor": 2
}
