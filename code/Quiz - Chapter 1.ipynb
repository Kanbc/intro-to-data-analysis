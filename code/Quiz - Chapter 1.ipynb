{
 "cells": [
  {
   "cell_type": "markdown",
   "metadata": {},
   "source": [
    "## Q9 : Investigating the Data"
   ]
  },
  {
   "cell_type": "code",
   "execution_count": 61,
   "metadata": {},
   "outputs": [
    {
     "name": "stdout",
     "output_type": "stream",
     "text": [
      "1302\n",
      "1237\n",
      "743\n"
     ]
    }
   ],
   "source": [
    "import unicodecsv\n",
    "\n",
    "#read data from CSV file and make it to lists\n",
    "def read_csv(filename):\n",
    "    with open(filename, 'rb') as f:\n",
    "        reader = unicodecsv.DictReader(f)\n",
    "        return list(reader)\n",
    "\n",
    "# 3 table\n",
    "enrollments = read_csv('../data/enrollments.csv')\n",
    "daily_engagement = read_csv('../data/daily_engagement.csv')\n",
    "project_submissions = read_csv('../data/project_submissions.csv')\n",
    "    \n",
    "### For each of these three tables, find the number of rows in the table and\n",
    "### the number of unique students in the table. To find the number of unique\n",
    "### students, you might want to create a set of the account keys in each table.\n",
    "\n",
    "enrollment_num_rows = len(enrollments) \n",
    "enrollment_num_id = []\n",
    "for enr in enrollments:\n",
    "    enrollment_num_id.append(enr['account_key']) \n",
    "\n",
    "enrollment_num_unique_students = len(set(enrollment_num_id))\n",
    "print(enrollment_num_unique_students)\n",
    "\n",
    "engagement_num_rows = len(daily_engagement)  \n",
    "engagement_num_id = []\n",
    "for engage in daily_engagement:\n",
    "    engagement_num_id.append(engage['acct']) \n",
    "\n",
    "engagement_num_unique_students = len(set(engagement_num_id))\n",
    "print(engagement_num_unique_students)\n",
    "\n",
    "submission_num_rows = len(project_submissions)\n",
    "submission_num_id = []\n",
    "for proj in project_submissions:\n",
    "    submission_num_id.append(proj['account_key']) \n",
    "\n",
    "submission_num_unique_students = len(set(submission_num_id))\n",
    "print(submission_num_unique_students)\n"
   ]
  },
  {
   "cell_type": "markdown",
   "metadata": {},
   "source": [
    "จะเห็นว่า Enrollment > Engagement > Submission"
   ]
  },
  {
   "cell_type": "markdown",
   "metadata": {},
   "source": [
    "## เฉลย\n",
    "\n",
    "ในส่วนของ for loop ที่สร้าง list ที่ค่าข้างใน unique ใช้ code แบบนี้สวยและสั้นกว่า"
   ]
  },
  {
   "cell_type": "code",
   "execution_count": 64,
   "metadata": {},
   "outputs": [
    {
     "data": {
      "text/plain": [
       "743"
      ]
     },
     "execution_count": 64,
     "metadata": {},
     "output_type": "execute_result"
    }
   ],
   "source": [
    "submission_num_unique_students = set()\n",
    "for submission in project_submissions:\n",
    "    submission_num_unique_students.add(submission['account_key'])\n",
    "len(submission_num_unique_students)"
   ]
  },
  {
   "cell_type": "markdown",
   "metadata": {
    "collapsed": true
   },
   "source": [
    "## Q10 : Problem in the Data"
   ]
  },
  {
   "cell_type": "code",
   "execution_count": 2,
   "metadata": {},
   "outputs": [
    {
     "name": "stdout",
     "output_type": "stream",
     "text": [
      "0\n"
     ]
    }
   ],
   "source": [
    "import unicodecsv\n",
    "\n",
    "#read data from CSV file and make it to lists\n",
    "def read_csv(filename):\n",
    "    with open(filename, 'rb') as f:\n",
    "        reader = unicodecsv.DictReader(f)\n",
    "        return list(reader)\n",
    "\n",
    "new_daily_engagement = read_csv('../data/daily_engagement.csv')\n",
    "\n",
    "for data in new_daily_engagement: \n",
    "    # add 'account_key' key to this row     \n",
    "    data['account_key'] = data['acct']\n",
    "    # remove 'acct' key to this row     \n",
    "    del data['acct']\n",
    "\n",
    "daily_engagement = new_daily_engagement\n",
    "# print(new_daily_engagement[0])\n",
    "print(daily_engagement[0]['account_key'])"
   ]
  },
  {
   "cell_type": "markdown",
   "metadata": {},
   "source": [
    "จากข้อนี้ ควรเปลี่ยน code for ใน Q3 เป็น function แล้วเรียกใช้ จะ clean กว่านะ"
   ]
  },
  {
   "cell_type": "markdown",
   "metadata": {},
   "source": [
    "## Q11 : Missing Engagement Records\n",
    "\n",
    "### Investigate 1st Problem (ที่เห็นจากข้อที่แล้ว)\n",
    "\n",
    "** ทำไม student ที่ enrollment บางคน ถึงไม่มีข้อมูลใน daily_engagement table? **\n",
    "1. ระบุหาจุดที่ข้อมูล surprise !! (ไม่ได้คาดการณ์ไว้)\n",
    "    - enrollment record ไหนที่ไม่เกี่ยวข้องกับข้อมูล engagement\n",
    "2. แสดงข้อมูลที่ surprise(แปลกๆ ไม่เหมือนตัวอื่น และจะทำให้การทดลองคลาดเคลื่อน) สัก 1 ชุด หรือบางส่วน เล็กน้อย ให้เห็น pattern\n"
   ]
  },
  {
   "cell_type": "code",
   "execution_count": 25,
   "metadata": {},
   "outputs": [
    {
     "name": "stdout",
     "output_type": "stream",
     "text": [
      "OrderedDict([('account_key', '1101'), ('status', 'current'), ('join_date', '2015-02-25'), ('cancel_date', ''), ('days_to_cancel', ''), ('is_udacity', 'True'), ('is_canceled', 'False')])\n"
     ]
    }
   ],
   "source": [
    "import unicodecsv\n",
    "import pandas as pd\n",
    "\n",
    "#read data from CSV file and make it to lists\n",
    "def read_csv(filename):\n",
    "    with open(filename, 'rb') as f:\n",
    "        reader = unicodecsv.DictReader(f)\n",
    "        return list(reader)\n",
    "\n",
    "# make array is contain student unique id ***require table has key \"account_key\"\n",
    "def unique_stu_id(table):\n",
    "    table_id = []\n",
    "    for data in table:\n",
    "        table_id.append(data['account_key'])\n",
    "    return set(table_id)\n",
    "    \n",
    "# 3 table\n",
    "enrollments = read_csv('../data/enrollments.csv')\n",
    "daily_engagement = read_csv('../data/daily_engagement.csv')\n",
    "project_submissions = read_csv('../data/project_submissions.csv')\n",
    "\n",
    "# fix daily engagement table 'acct' to 'account_key'\n",
    "for engage in daily_engagement:\n",
    "    engage['account_key'] = engage['acct']\n",
    "    del engage['acct']\n",
    "\n",
    "# Enrollment\n",
    "enrollment_unique_stu_id = unique_stu_id(enrollments)\n",
    "\n",
    "# Engagement\n",
    "engagement_unique_stu_id = unique_stu_id(daily_engagement)\n",
    "\n",
    "student_not_engage_id = enrollment_unique_stu_id - engagement_unique_stu_id;\n",
    "student_not_engage_table = [];\n",
    "for enrol in enrollments: \n",
    "#     student_id = enrol['account_key']\n",
    "#     if student_id not in engagement_unique_stu_id:\n",
    "#         print(enrol)\n",
    "#         break\n",
    "    if enrol['account_key'] in student_not_engage_id:\n",
    "        student_not_engage_table.append(enrol)\n",
    "\n",
    "# pd.DataFrame(student_not_engage_table)\n",
    "print(student_not_engage_table[56])"
   ]
  },
  {
   "cell_type": "markdown",
   "metadata": {},
   "source": [
    "## Q12 : Checking For More Problem Records\n",
    "\n",
    "### Investigating Data Problems (วิธีการสำรวจหาปัญหาของ Data)\n",
    "1. Identify surprising data points\n",
    "2. Print Out one or a few surprising point\n",
    "3. Fix any problems youfind\n",
    "\n",
    "**คำถามคือ จำนวนข้อมูล enrollment ที่ไม่มี engagement และมีเวลาก่อน cancel อย่างน้อย 1 วัน?**"
   ]
  },
  {
   "cell_type": "code",
   "execution_count": 41,
   "metadata": {},
   "outputs": [
    {
     "data": {
      "text/html": [
       "<div>\n",
       "<style>\n",
       "    .dataframe thead tr:only-child th {\n",
       "        text-align: right;\n",
       "    }\n",
       "\n",
       "    .dataframe thead th {\n",
       "        text-align: left;\n",
       "    }\n",
       "\n",
       "    .dataframe tbody tr th {\n",
       "        vertical-align: top;\n",
       "    }\n",
       "</style>\n",
       "<table border=\"1\" class=\"dataframe\">\n",
       "  <thead>\n",
       "    <tr style=\"text-align: right;\">\n",
       "      <th></th>\n",
       "      <th>account_key</th>\n",
       "      <th>status</th>\n",
       "      <th>join_date</th>\n",
       "      <th>cancel_date</th>\n",
       "      <th>days_to_cancel</th>\n",
       "      <th>is_udacity</th>\n",
       "      <th>is_canceled</th>\n",
       "    </tr>\n",
       "  </thead>\n",
       "  <tbody>\n",
       "    <tr>\n",
       "      <th>0</th>\n",
       "      <td>1304</td>\n",
       "      <td>canceled</td>\n",
       "      <td>2015-01-10</td>\n",
       "      <td>2015-03-10</td>\n",
       "      <td>59</td>\n",
       "      <td>True</td>\n",
       "      <td>True</td>\n",
       "    </tr>\n",
       "    <tr>\n",
       "      <th>1</th>\n",
       "      <td>1304</td>\n",
       "      <td>canceled</td>\n",
       "      <td>2015-03-10</td>\n",
       "      <td>2015-06-17</td>\n",
       "      <td>99</td>\n",
       "      <td>True</td>\n",
       "      <td>True</td>\n",
       "    </tr>\n",
       "    <tr>\n",
       "      <th>2</th>\n",
       "      <td>1101</td>\n",
       "      <td>current</td>\n",
       "      <td>2015-02-25</td>\n",
       "      <td></td>\n",
       "      <td></td>\n",
       "      <td>True</td>\n",
       "      <td>False</td>\n",
       "    </tr>\n",
       "  </tbody>\n",
       "</table>\n",
       "</div>"
      ],
      "text/plain": [
       "  account_key    status   join_date cancel_date days_to_cancel is_udacity  \\\n",
       "0        1304  canceled  2015-01-10  2015-03-10             59       True   \n",
       "1        1304  canceled  2015-03-10  2015-06-17             99       True   \n",
       "2        1101   current  2015-02-25                                  True   \n",
       "\n",
       "  is_canceled  \n",
       "0        True  \n",
       "1        True  \n",
       "2       False  "
      ]
     },
     "execution_count": 41,
     "metadata": {},
     "output_type": "execute_result"
    }
   ],
   "source": [
    "import unicodecsv\n",
    "import pandas as pd\n",
    "\n",
    "#read data from CSV file and make it to lists\n",
    "def read_csv(filename):\n",
    "    with open(filename, 'rb') as f:\n",
    "        reader = unicodecsv.DictReader(f)\n",
    "        return list(reader)\n",
    "\n",
    "# make array is contain student unique id ***require table has key \"account_key\"\n",
    "def unique_stu_id(table):\n",
    "    table_id = []\n",
    "    for data in table:\n",
    "        table_id.append(data['account_key'])\n",
    "    return set(table_id)\n",
    "    \n",
    "# 3 table\n",
    "enrollments = read_csv('../data/enrollments.csv')\n",
    "daily_engagement = read_csv('../data/daily_engagement.csv')\n",
    "project_submissions = read_csv('../data/project_submissions.csv')\n",
    "\n",
    "# fix daily engagement table 'acct' to 'account_key'\n",
    "for engage in daily_engagement:\n",
    "    engage['account_key'] = engage['acct']\n",
    "    del engage['acct']\n",
    "\n",
    "# Enrollment\n",
    "enrollment_unique_stu_id = unique_stu_id(enrollments)\n",
    "\n",
    "# Engagement\n",
    "engagement_unique_stu_id = unique_stu_id(daily_engagement)\n",
    "\n",
    "student_not_engage_id = enrollment_unique_stu_id - engagement_unique_stu_id;\n",
    "student_not_engage_table = [];\n",
    "for enrol in enrollments: \n",
    "    if enrol['account_key'] in student_not_engage_id and enrol['days_to_cancel'] != '0':\n",
    "        student_not_engage_table.append(enrol)\n",
    "\n",
    "pd.DataFrame(student_not_engage_table)"
   ]
  },
  {
   "cell_type": "markdown",
   "metadata": {},
   "source": [
    "## 13 : Tracking Down The Remaining Problems\n",
    "\n",
    "จากที่เห็นในข้อ 12 จะเห็นว่าทั้ง 3 คน is_udacity = True \n",
    "ซึ่งถ้าถามทีม Data ของ udacity แล้วจะได้ความว่า is_udacity = True คือ account test ต้องกรองออก\n",
    "\n",
    "**ทำ Filter กรอง account test ออก**"
   ]
  },
  {
   "cell_type": "code",
   "execution_count": 191,
   "metadata": {},
   "outputs": [
    {
     "name": "stdout",
     "output_type": "stream",
     "text": [
      "1296\n"
     ]
    },
    {
     "data": {
      "text/html": [
       "<div>\n",
       "<style>\n",
       "    .dataframe thead tr:only-child th {\n",
       "        text-align: right;\n",
       "    }\n",
       "\n",
       "    .dataframe thead th {\n",
       "        text-align: left;\n",
       "    }\n",
       "\n",
       "    .dataframe tbody tr th {\n",
       "        vertical-align: top;\n",
       "    }\n",
       "</style>\n",
       "<table border=\"1\" class=\"dataframe\">\n",
       "  <thead>\n",
       "    <tr style=\"text-align: right;\">\n",
       "      <th></th>\n",
       "    </tr>\n",
       "  </thead>\n",
       "  <tbody>\n",
       "  </tbody>\n",
       "</table>\n",
       "</div>"
      ],
      "text/plain": [
       "Empty DataFrame\n",
       "Columns: []\n",
       "Index: []"
      ]
     },
     "execution_count": 191,
     "metadata": {},
     "output_type": "execute_result"
    }
   ],
   "source": [
    "import unicodecsv\n",
    "import pandas as pd\n",
    "\n",
    "#read data from CSV file and make it to lists\n",
    "def read_csv(filename):\n",
    "    with open(filename, 'rb') as f:\n",
    "        reader = unicodecsv.DictReader(f)\n",
    "        return list(reader)\n",
    "\n",
    "# make array is contain student unique id ***require table has key \"account_key\"\n",
    "def unique_stu_id(table):\n",
    "    table_id = []\n",
    "    for data in table:\n",
    "        table_id.append(data['account_key'])\n",
    "    return set(table_id)\n",
    "\n",
    "# make array is contain udacity test unique id ***require table has key \"account_key\"\n",
    "def test_accounts_id(table):\n",
    "    table_id = []\n",
    "    for data in table:\n",
    "        if data['is_udacity'] == 'True':\n",
    "            table_id.append(data['account_key'])\n",
    "    return set(table_id)\n",
    "\n",
    "def non_udacity_account(data,test):\n",
    "    non_test = []\n",
    "    for x in data:\n",
    "        if x['account_key'] not in test:\n",
    "            non_test.append(x)\n",
    "    return non_test\n",
    "    \n",
    "    \n",
    "# 3 table\n",
    "enrollments = read_csv('../data/enrollments.csv') #1640\n",
    "daily_engagement = read_csv('../data/daily_engagement.csv') #136240\n",
    "project_submissions = read_csv('../data/project_submissions.csv') #3642\n",
    "# test students id   \n",
    "enroll_test      = test_accounts_id(enrollments) #6\n",
    "enrollments      = non_udacity_account(enrollments,enroll_test)\n",
    "\n",
    "# fix daily engagement table 'acct' to 'account_key'\n",
    "for engage in daily_engagement:\n",
    "    engage['account_key'] = engage['acct']\n",
    "    del engage['acct']\n",
    "\n",
    "# Enrollment\n",
    "enrollment_unique_stu_id = unique_stu_id(enrollments)\n",
    "print(len(enrollment_unique_stu_id))\n",
    "\n",
    "# Engagement\n",
    "engagement_unique_stu_id = unique_stu_id(daily_engagement)\n",
    "student_not_engage_id = enrollment_unique_stu_id - engagement_unique_stu_id;\n",
    "student_not_engage_table = [];\n",
    "for enrol in enrollments: \n",
    "    if enrol['account_key'] in student_not_engage_id and enrol['days_to_cancel'] != '0':\n",
    "        student_not_engage_table.append(enrol)\n",
    "\n",
    "pd.DataFrame(student_not_engage_table)"
   ]
  },
  {
   "cell_type": "markdown",
   "metadata": {},
   "source": [
    "## Q14 : Refining The Question (ขัดเกลาคำถาม)\n",
    "\n",
    "ณ จุดนี้เราจะย้ายจาก Wrangling Phase มาอยู่ที่ Explore Phase\n",
    "\n",
    "หลังจากกรองข้อมูลขยะออกไปแล้ว ก็มาตั้งคำถามกับข้อมูลกัน ให้ลึกขึ้นๆ เช่น\n",
    "1. ความแตกต่างของจำนวนการเข้าเรียนในตาราง daily_engagement ของคนที่ผ่านกับไม่ผ่านโปรเจคแรก\n",
    "\n",
    "จากคำถามนี้ เมื่อพิจารณา daily_engagement จะมีปัญหาคือ\n",
    "1. This will include data from after project submission\n",
    "2. This compress data from different leght of time\n",
    "3. Include engagement of course not related to the first project.\n",
    "\n",
    "ดังนั้นจึงปรับคำถามใหม่หน่อย\n",
    "**Revision(ปรับปรุงใหม่)**\n",
    "\n",
    "** Get start **\n",
    "1. สร้าง dict ของ student ที่มีคุณสมบัติ อย่างใดอย่างหนึ่งนี้\n",
    "    * ยังไม่ cancel\n",
    "    * วันที่ enroll ทั้งหมดมากกว่า 7 วัน\n",
    "\n",
    "Key : account_key, Values : enrollment_date\n",
    "NameDict : paid_students\n"
   ]
  },
  {
   "cell_type": "code",
   "execution_count": 196,
   "metadata": {},
   "outputs": [
    {
     "name": "stdout",
     "output_type": "stream",
     "text": [
      "995\n"
     ]
    }
   ],
   "source": [
    "enrollments = read_csv('../data/enrollments.csv') #1640\n",
    "\n",
    "# remove test\n",
    "enroll_test      = test_accounts_id(enrollments) #6\n",
    "enrollments      = non_udacity_account(enrollments,enroll_test)\n",
    "\n",
    "# unique student enroll id (1296)\n",
    "unique_stu_enrollment_id = unique_stu_id(enrollments)\n",
    "\n",
    "# unique enroll (1622) \n",
    "for enrol in enrollments: \n",
    "    if enrol['account_key'] not in unique_stu_enrollment_id:\n",
    "        del enrol         \n",
    "\n",
    "# paid students [one key(id) per one value]\n",
    "paid_students = {}\n",
    "for enroll in enrollments: \n",
    "    if not enroll['days_to_cancel'] or int(enroll['days_to_cancel']) > 7:\n",
    "        if enroll['account_key'] not in paid_students or enroll['join_date'] > paid_students[enroll['account_key']]:\n",
    "            paid_students[enroll['account_key']] = enroll['join_date']\n",
    "\n",
    "print(len(paid_students))"
   ]
  },
  {
   "cell_type": "markdown",
   "metadata": {},
   "source": [
    "## Q15 : Getting Data From First Week\n",
    "\n",
    "ต่อจากข้อ 14 ต้องพิจารณาตาราง daily_engagement เพิ่ม โดยเอาเฉพาะข้อมูลของ paid student(จากข้อที่แล้ว) และพิจารณาเฉพาะ engagement ใน first week"
   ]
  },
  {
   "cell_type": "code",
   "execution_count": 292,
   "metadata": {},
   "outputs": [
    {
     "name": "stdout",
     "output_type": "stream",
     "text": [
      "6919\n"
     ]
    }
   ],
   "source": [
    "# Variable\n",
    "# - paid_students\n",
    "# - daily_engagement\n",
    "#------------------------------\n",
    "from datetime import datetime\n",
    "\n",
    "def remove_free_trial_cancels(data):\n",
    "    new_data = []\n",
    "    for dp in data:\n",
    "        if dp['account_key'] in paid_students:\n",
    "            new_data.append(dp)\n",
    "    return new_data\n",
    "    \n",
    "\n",
    "def within_one_week(join_date,engagement_date):\n",
    "    date_format = \"%Y-%m-%d\"\n",
    "    delta_time  = datetime.strptime(engagement_date, date_format) - datetime.strptime(join_date, date_format)\n",
    "    return delta_time.days < 7 and delta_time.days >= 0\n",
    "\n",
    "# Paid_engagement\n",
    "paid_engagement = remove_free_trial_cancels(daily_engagement)\n",
    "\n",
    "# Paid_engagement in 1st week\n",
    "paid_engagement_in_first_week = []\n",
    "for engagement in paid_engagement:\n",
    "    if within_one_week(paid_students[engagement['account_key']],engagement['utc_date']):\n",
    "        paid_engagement_in_first_week.append(engagement) \n",
    "\n",
    "print(len(paid_engagement_in_first_week))"
   ]
  },
  {
   "cell_type": "markdown",
   "metadata": {},
   "source": [
    "## 17 : Exploring Student Engagement\n",
    "\n",
    "group ข้อมูล engagement เป็นของแต่ละคน แล้วพิจาณาเวลาเรียนทั้งหมดของแต่ละคน และเวลาเรียนเฉลี่ยของคอร์ส\n"
   ]
  },
  {
   "cell_type": "code",
   "execution_count": 336,
   "metadata": {},
   "outputs": [
    {
     "name": "stdout",
     "output_type": "stream",
     "text": [
      "SUM : 305174.78512\n",
      "MEAN : 306.708326753\n",
      "SD : 412.996933409\n",
      "MIN : 0.0\n",
      "MAX : 3564.7332645\n"
     ]
    }
   ],
   "source": [
    "# Variable\n",
    "# - paid_engagement_in_first_week\n",
    "#------------------------------\n",
    "from collections import defaultdict\n",
    "import numpy as np\n",
    "\n",
    "def group_data(data, keyname):\n",
    "    group_by_keyname = defaultdict(list)\n",
    "    for data_point in data:\n",
    "        key = data_point[keyname]\n",
    "        group_by_keyname[key].append(data_point) \n",
    "    return group_by_keyname\n",
    "\n",
    "def sum_grouped_items(grouped_data, field_name):    \n",
    "    total_value = {}\n",
    "    for key, values in grouped_data.items():\n",
    "        total = 0\n",
    "        for value in values:\n",
    "            total += float(value[field_name])\n",
    "        total_value[key] = total\n",
    "    return total_value\n",
    "\n",
    "def describe_data(data):    \n",
    "    total_values = list(data.values())\n",
    "    print(\"SUM :\", np.sum(total_values))\n",
    "    print(\"MEAN :\", np.mean(total_values))\n",
    "    print(\"SD :\", np.std(total_values))\n",
    "    print(\"MIN :\", np.min(total_values))\n",
    "    print(\"MAX :\", np.max(total_values))\n",
    "\n",
    "# Engagement in 1st week group by 'account_key'\n",
    "engagement_by_account = group_data(paid_engagement_in_first_week, 'account_key')\n",
    "\n",
    "# Total minute by account\n",
    "total_minute_by_account = sum_grouped_items(group_engagement_by_account, 'total_minutes_visited')\n",
    "\n",
    "# Describe\n",
    "describe_data(total_minute_by_account)\n",
    "\n",
    "# pandas print table series\n",
    "# pd.Series(total_minute_by_account)"
   ]
  },
  {
   "cell_type": "markdown",
   "metadata": {},
   "source": [
    "## Q18 : Debugging Data Analysis Code\n",
    "\n",
    " debug data analysis code \n",
    " \n",
    " STEP : \n",
    " 1. Identify surprising data point\n",
    " 2. Print out one or a few surprising points\n",
    " 3. Fix any problem you find\n",
    " \n",
    " จากข้อ 17 \n",
    " จะเห็นว่าที่ MAX Time ต้องเรียนวันละ 25 hr (ใน 7 วัน) ถึงจะเรียนได้แบบนั้น แม่งมีไรแปลกๆละ\n",
    " ดู engagement ของคนที่ได้ Max สักหน่อยน่าจะดี"
   ]
  },
  {
   "cell_type": "code",
   "execution_count": 337,
   "metadata": {},
   "outputs": [
    {
     "name": "stdout",
     "output_type": "stream",
     "text": [
      "Lazy team : 643\n",
      "Diligent team : 352\n",
      "Zero minute team: 184\n",
      "Zero minute(SENTED) : 94\n",
      "Zero minute(PASSED) : 89\n"
     ]
    },
    {
     "data": {
      "text/html": [
       "<div>\n",
       "<style>\n",
       "    .dataframe thead tr:only-child th {\n",
       "        text-align: right;\n",
       "    }\n",
       "\n",
       "    .dataframe thead th {\n",
       "        text-align: left;\n",
       "    }\n",
       "\n",
       "    .dataframe tbody tr th {\n",
       "        vertical-align: top;\n",
       "    }\n",
       "</style>\n",
       "<table border=\"1\" class=\"dataframe\">\n",
       "  <thead>\n",
       "    <tr style=\"text-align: right;\">\n",
       "      <th></th>\n",
       "      <th>utc_date</th>\n",
       "      <th>num_courses_visited</th>\n",
       "      <th>total_minutes_visited</th>\n",
       "      <th>lessons_completed</th>\n",
       "      <th>projects_completed</th>\n",
       "      <th>account_key</th>\n",
       "    </tr>\n",
       "  </thead>\n",
       "  <tbody>\n",
       "    <tr>\n",
       "      <th>0</th>\n",
       "      <td>2015-07-09</td>\n",
       "      <td>4.0</td>\n",
       "      <td>850.519339666</td>\n",
       "      <td>4.0</td>\n",
       "      <td>0.0</td>\n",
       "      <td>163</td>\n",
       "    </tr>\n",
       "    <tr>\n",
       "      <th>1</th>\n",
       "      <td>2015-07-10</td>\n",
       "      <td>6.0</td>\n",
       "      <td>872.633923334</td>\n",
       "      <td>6.0</td>\n",
       "      <td>0.0</td>\n",
       "      <td>163</td>\n",
       "    </tr>\n",
       "    <tr>\n",
       "      <th>2</th>\n",
       "      <td>2015-07-11</td>\n",
       "      <td>2.0</td>\n",
       "      <td>777.018903666</td>\n",
       "      <td>6.0</td>\n",
       "      <td>0.0</td>\n",
       "      <td>163</td>\n",
       "    </tr>\n",
       "    <tr>\n",
       "      <th>3</th>\n",
       "      <td>2015-07-12</td>\n",
       "      <td>1.0</td>\n",
       "      <td>294.568774</td>\n",
       "      <td>2.0</td>\n",
       "      <td>0.0</td>\n",
       "      <td>163</td>\n",
       "    </tr>\n",
       "    <tr>\n",
       "      <th>4</th>\n",
       "      <td>2015-07-13</td>\n",
       "      <td>3.0</td>\n",
       "      <td>471.2139785</td>\n",
       "      <td>1.0</td>\n",
       "      <td>0.0</td>\n",
       "      <td>163</td>\n",
       "    </tr>\n",
       "    <tr>\n",
       "      <th>5</th>\n",
       "      <td>2015-07-14</td>\n",
       "      <td>2.0</td>\n",
       "      <td>298.778345333</td>\n",
       "      <td>1.0</td>\n",
       "      <td>0.0</td>\n",
       "      <td>163</td>\n",
       "    </tr>\n",
       "    <tr>\n",
       "      <th>6</th>\n",
       "      <td>2015-07-15</td>\n",
       "      <td>0.0</td>\n",
       "      <td>0.0</td>\n",
       "      <td>0.0</td>\n",
       "      <td>0.0</td>\n",
       "      <td>163</td>\n",
       "    </tr>\n",
       "  </tbody>\n",
       "</table>\n",
       "</div>"
      ],
      "text/plain": [
       "     utc_date num_courses_visited total_minutes_visited lessons_completed  \\\n",
       "0  2015-07-09                 4.0         850.519339666               4.0   \n",
       "1  2015-07-10                 6.0         872.633923334               6.0   \n",
       "2  2015-07-11                 2.0         777.018903666               6.0   \n",
       "3  2015-07-12                 1.0            294.568774               2.0   \n",
       "4  2015-07-13                 3.0           471.2139785               1.0   \n",
       "5  2015-07-14                 2.0         298.778345333               1.0   \n",
       "6  2015-07-15                 0.0                   0.0               0.0   \n",
       "\n",
       "  projects_completed account_key  \n",
       "0                0.0         163  \n",
       "1                0.0         163  \n",
       "2                0.0         163  \n",
       "3                0.0         163  \n",
       "4                0.0         163  \n",
       "5                0.0         163  \n",
       "6                0.0         163  "
      ]
     },
     "execution_count": 337,
     "metadata": {},
     "output_type": "execute_result"
    }
   ],
   "source": [
    "# Variable\n",
    "# - total_minute_by_account\n",
    "# - sum_minutes   \n",
    "# - mean_minutes  \n",
    "# - sd_minutes    \n",
    "# - min_minutes   \n",
    "# - max_minutes   \n",
    "# - project_submissions\n",
    "#---------------------------------------------------------------------------\n",
    "#Q1 : จะมีคนเกิน mean เท่าไหร่ น้อยกว่า mean เท่าไหร่ \n",
    "#Q2 : 0 เท่าไหร่?\n",
    "lazy_team = []\n",
    "diligent_team = []\n",
    "zero_team = []\n",
    "max_team = []\n",
    "for key,value in total_minute_by_account.items():\n",
    "    if value < mean_minutes:\n",
    "        lazy_team.append(key)\n",
    "        if value == 0:\n",
    "            zero_team.append(key)\n",
    "    else:\n",
    "        diligent_team.append(key)\n",
    "        if value == max_minutes:\n",
    "            max_team.append(key)\n",
    "\n",
    "print(\"Lazy team :\",len(lazy_team))\n",
    "print(\"Diligent team :\",len(diligent_team))\n",
    "print(\"Zero minute team:\",len(zero_team))\n",
    "\n",
    "#Q3 : คนเรียน 0 นาที แต่ส่ง project\n",
    "#Q4 : คนเรียน 0 นาที ส่ง project แล้วผ่าน\n",
    "zero_but_sented = set()\n",
    "zero_but_passed = set()\n",
    "for proj in project_submissions:\n",
    "    if proj['account_key'] in zero_team:\n",
    "        zero_but_sented.add(proj['account_key'])\n",
    "        if proj['assigned_rating'] == \"PASSED\":\n",
    "            zero_but_passed.add(proj['account_key'])\n",
    "        \n",
    "print(\"Zero minute(SENTED) :\",len(zero_but_sented))\n",
    "print(\"Zero minute(PASSED) :\",len(zero_but_passed))\n",
    "#-------------------------------------------------------------------------\n",
    "#Q5 : max time student's engagement\n",
    "pd.DataFrame(engagement_by_account[max_team[0]][0:40])\n"
   ]
  },
  {
   "cell_type": "markdown",
   "metadata": {},
   "source": [
    "จะเห็นว่าเวลา \"utc_date\" แม่งกินช่วงหลายเดือนมาก แสดงว่า function within_one_week นี่น่าจะผิด เดาคือเพราะแม่งนับ engagement ของ enrollment แรกๆที่เคยเข้าเรียนแล้ว cancel ด้วย "
   ]
  },
  {
   "cell_type": "markdown",
   "metadata": {},
   "source": [
    "## Q19: Lessons Completed In First Week\n",
    "\n",
    "เปลี่ยนจาก minute เป็น lesson"
   ]
  },
  {
   "cell_type": "code",
   "execution_count": 342,
   "metadata": {},
   "outputs": [
    {
     "name": "stdout",
     "output_type": "stream",
     "text": [
      "SUM : 1628.0\n",
      "MEAN : 1.63618090452\n",
      "SD : 3.00256129983\n",
      "MIN : 0.0\n",
      "MAX : 36.0\n"
     ]
    }
   ],
   "source": [
    "# Variable\n",
    "# - engagement_by_account\n",
    "\n",
    "total_lesson_by_account = sum_grouped_items(engagement_by_account, 'lessons_completed')\n",
    "describe_data(total_lesson_by_account)"
   ]
  },
  {
   "cell_type": "markdown",
   "metadata": {
    "collapsed": true
   },
   "source": [
    "## Q20 : Number Of Visits In The First Week\n",
    "\n",
    "นับจำนวนวันที่เข้าเรียนของแต่ละคนในอาทิตย์แรก\n"
   ]
  },
  {
   "cell_type": "code",
   "execution_count": 346,
   "metadata": {},
   "outputs": [
    {
     "name": "stdout",
     "output_type": "stream",
     "text": [
      "SUM : 2853\n",
      "MEAN : 2.86733668342\n",
      "SD : 2.25519800292\n",
      "MIN : 0\n",
      "MAX : 7\n"
     ]
    }
   ],
   "source": [
    "# Variable\n",
    "# - engagement_by_account\n",
    "\n",
    "def total_has_visited(grouped_data, field_name):    \n",
    "    total_value = {}\n",
    "    for key, values in grouped_data.items():\n",
    "        total = 0\n",
    "        for value in values:\n",
    "            has_visited = 1 if float(value[field_name]) > 0 else 0\n",
    "            total += has_visited\n",
    "        total_value[key] = total\n",
    "    return total_value\n",
    "\n",
    "total_has_visited_in_one_week = total_has_visited(engagement_by_account,'num_courses_visited')\n",
    "describe_data(total_has_visited_in_one_week)"
   ]
  },
  {
   "cell_type": "code",
   "execution_count": null,
   "metadata": {
    "collapsed": true
   },
   "outputs": [],
   "source": []
  }
 ],
 "metadata": {
  "kernelspec": {
   "display_name": "Python 3",
   "language": "python",
   "name": "python3"
  },
  "language_info": {
   "codemirror_mode": {
    "name": "ipython",
    "version": 3
   },
   "file_extension": ".py",
   "mimetype": "text/x-python",
   "name": "python",
   "nbconvert_exporter": "python",
   "pygments_lexer": "ipython3",
   "version": "3.6.1"
  }
 },
 "nbformat": 4,
 "nbformat_minor": 2
}
