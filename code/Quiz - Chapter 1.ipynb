{
 "cells": [
  {
   "cell_type": "markdown",
   "metadata": {},
   "source": [
    "## Q9 : Investigating the Data"
   ]
  },
  {
   "cell_type": "code",
   "execution_count": 56,
   "metadata": {},
   "outputs": [
    {
     "name": "stdout",
     "output_type": "stream",
     "text": [
      "1302\n",
      "1237\n",
      "743\n"
     ]
    }
   ],
   "source": [
    "import unicodecsv\n",
    "\n",
    "#read data from CSV file and make it to lists\n",
    "def read_csv(filename):\n",
    "    with open(filename, 'rb') as f:\n",
    "        reader = unicodecsv.DictReader(f)\n",
    "        return list(reader)\n",
    "\n",
    "# 3 table\n",
    "enrollments = read_csv('../data/enrollments.csv')\n",
    "daily_engagement = read_csv('../data/daily_engagement.csv')\n",
    "project_submissions = read_csv('../data/project_submissions.csv')\n",
    "    \n",
    "### For each of these three tables, find the number of rows in the table and\n",
    "### the number of unique students in the table. To find the number of unique\n",
    "### students, you might want to create a set of the account keys in each table.\n",
    "\n",
    "enrollment_num_rows = len(enrollments) \n",
    "enrollment_num_id = []\n",
    "for enr in enrollments:\n",
    "    enrollment_num_id.append(enr['account_key']) \n",
    "\n",
    "enrollment_num_unique_students = len(set(enrollment_num_id))\n",
    "print(enrollment_num_unique_students)\n",
    "\n",
    "engagement_num_rows = len(daily_engagement)  \n",
    "engagement_num_id = []\n",
    "for engage in daily_engagement:\n",
    "    engagement_num_id.append(engage['acct']) \n",
    "\n",
    "engagement_num_unique_students = len(set(engagement_num_id))\n",
    "print(engagement_num_unique_students)\n",
    "\n",
    "submission_num_rows = len(project_submissions)\n",
    "submission_num_id = []\n",
    "for proj in project_submissions:\n",
    "    submission_num_id.append(proj['account_key']) \n",
    "\n",
    "submission_num_unique_students = len(set(submission_num_id))\n",
    "print(submission_num_unique_students)\n"
   ]
  },
  {
   "cell_type": "markdown",
   "metadata": {},
   "source": [
    "จะเห็นว่า Enrollment > Engagement > Submission"
   ]
  },
  {
   "cell_type": "markdown",
   "metadata": {},
   "source": [
    "## เฉลย\n",
    "\n",
    "ในส่วนของ for loop ที่สร้าง list ที่ค่าข้างใน unique ใช้ code แบบนี้สวยและสั้นกว่า"
   ]
  },
  {
   "cell_type": "code",
   "execution_count": 57,
   "metadata": {},
   "outputs": [
    {
     "data": {
      "text/plain": [
       "743"
      ]
     },
     "execution_count": 57,
     "metadata": {},
     "output_type": "execute_result"
    }
   ],
   "source": [
    "submission_num_unique_students = set()\n",
    "for submission in project_submissions:\n",
    "    submission_num_unique_students.add(submission['account_key'])\n",
    "len(submission_num_unique_students)"
   ]
  },
  {
   "cell_type": "markdown",
   "metadata": {
    "collapsed": true
   },
   "source": [
    "## Q10 : Problem in the Data"
   ]
  },
  {
   "cell_type": "code",
   "execution_count": 58,
   "metadata": {},
   "outputs": [
    {
     "name": "stdout",
     "output_type": "stream",
     "text": [
      "0\n"
     ]
    }
   ],
   "source": [
    "import unicodecsv\n",
    "\n",
    "#read data from CSV file and make it to lists\n",
    "def read_csv(filename):\n",
    "    with open(filename, 'rb') as f:\n",
    "        reader = unicodecsv.DictReader(f)\n",
    "        return list(reader)\n",
    "\n",
    "new_daily_engagement = read_csv('../data/daily_engagement.csv')\n",
    "\n",
    "for data in new_daily_engagement: \n",
    "    # add 'account_key' key to this row     \n",
    "    data['account_key'] = data['acct']\n",
    "    # remove 'acct' key to this row     \n",
    "    del data['acct']\n",
    "\n",
    "daily_engagement = new_daily_engagement\n",
    "# print(new_daily_engagement[0])\n",
    "print(daily_engagement[0]['account_key'])"
   ]
  },
  {
   "cell_type": "markdown",
   "metadata": {},
   "source": [
    "จากข้อนี้ ควรเปลี่ยน code for ใน Q3 เป็น function แล้วเรียกใช้ จะ clean กว่านะ"
   ]
  },
  {
   "cell_type": "markdown",
   "metadata": {},
   "source": [
    "## Q11 : Missing Engagement Records\n",
    "\n",
    "### Investigate 1st Problem (ที่เห็นจากข้อที่แล้ว)\n",
    "\n",
    "** ทำไม student ที่ enrollment บางคน ถึงไม่มีข้อมูลใน daily_engagement table? **\n",
    "1. ระบุหาจุดที่ข้อมูล surprise !! (ไม่ได้คาดการณ์ไว้)\n",
    "    - enrollment record ไหนที่ไม่เกี่ยวข้องกับข้อมูล engagement\n",
    "2. แสดงข้อมูลที่ surprise(แปลกๆ ไม่เหมือนตัวอื่น และจะทำให้การทดลองคลาดเคลื่อน) สัก 1 ชุด หรือบางส่วน เล็กน้อย ให้เห็น pattern\n"
   ]
  },
  {
   "cell_type": "code",
   "execution_count": 59,
   "metadata": {},
   "outputs": [
    {
     "name": "stdout",
     "output_type": "stream",
     "text": [
      "OrderedDict([('account_key', '1101'), ('status', 'current'), ('join_date', '2015-02-25'), ('cancel_date', ''), ('days_to_cancel', ''), ('is_udacity', 'True'), ('is_canceled', 'False')])\n"
     ]
    }
   ],
   "source": [
    "import unicodecsv\n",
    "import pandas as pd\n",
    "\n",
    "#read data from CSV file and make it to lists\n",
    "def read_csv(filename):\n",
    "    with open(filename, 'rb') as f:\n",
    "        reader = unicodecsv.DictReader(f)\n",
    "        return list(reader)\n",
    "\n",
    "# make array is contain student unique id ***require table has key \"account_key\"\n",
    "def unique_stu_id(table):\n",
    "    table_id = []\n",
    "    for data in table:\n",
    "        table_id.append(data['account_key'])\n",
    "    return set(table_id)\n",
    "    \n",
    "# 3 table\n",
    "enrollments = read_csv('../data/enrollments.csv')\n",
    "daily_engagement = read_csv('../data/daily_engagement.csv')\n",
    "project_submissions = read_csv('../data/project_submissions.csv')\n",
    "\n",
    "# fix daily engagement table 'acct' to 'account_key'\n",
    "for engage in daily_engagement:\n",
    "    engage['account_key'] = engage['acct']\n",
    "    del engage['acct']\n",
    "\n",
    "# Enrollment\n",
    "enrollment_unique_stu_id = unique_stu_id(enrollments)\n",
    "\n",
    "# Engagement\n",
    "engagement_unique_stu_id = unique_stu_id(daily_engagement)\n",
    "\n",
    "student_not_engage_id = enrollment_unique_stu_id - engagement_unique_stu_id;\n",
    "student_not_engage_table = [];\n",
    "for enrol in enrollments: \n",
    "#     student_id = enrol['account_key']\n",
    "#     if student_id not in engagement_unique_stu_id:\n",
    "#         print(enrol)\n",
    "#         break\n",
    "    if enrol['account_key'] in student_not_engage_id:\n",
    "        student_not_engage_table.append(enrol)\n",
    "\n",
    "# pd.DataFrame(student_not_engage_table)\n",
    "print(student_not_engage_table[56])"
   ]
  },
  {
   "cell_type": "markdown",
   "metadata": {},
   "source": [
    "## Q12 : Checking For More Problem Records\n",
    "\n",
    "### Investigating Data Problems (วิธีการสำรวจหาปัญหาของ Data)\n",
    "1. Identify surprising data points\n",
    "2. Print Out one or a few surprising point\n",
    "3. Fix any problems youfind\n",
    "\n",
    "**คำถามคือ จำนวนข้อมูล enrollment ที่ไม่มี engagement และมีเวลาก่อน cancel อย่างน้อย 1 วัน?**"
   ]
  },
  {
   "cell_type": "code",
   "execution_count": 60,
   "metadata": {},
   "outputs": [
    {
     "data": {
      "text/html": [
       "<div>\n",
       "<style>\n",
       "    .dataframe thead tr:only-child th {\n",
       "        text-align: right;\n",
       "    }\n",
       "\n",
       "    .dataframe thead th {\n",
       "        text-align: left;\n",
       "    }\n",
       "\n",
       "    .dataframe tbody tr th {\n",
       "        vertical-align: top;\n",
       "    }\n",
       "</style>\n",
       "<table border=\"1\" class=\"dataframe\">\n",
       "  <thead>\n",
       "    <tr style=\"text-align: right;\">\n",
       "      <th></th>\n",
       "      <th>account_key</th>\n",
       "      <th>status</th>\n",
       "      <th>join_date</th>\n",
       "      <th>cancel_date</th>\n",
       "      <th>days_to_cancel</th>\n",
       "      <th>is_udacity</th>\n",
       "      <th>is_canceled</th>\n",
       "    </tr>\n",
       "  </thead>\n",
       "  <tbody>\n",
       "    <tr>\n",
       "      <th>0</th>\n",
       "      <td>1304</td>\n",
       "      <td>canceled</td>\n",
       "      <td>2015-01-10</td>\n",
       "      <td>2015-03-10</td>\n",
       "      <td>59</td>\n",
       "      <td>True</td>\n",
       "      <td>True</td>\n",
       "    </tr>\n",
       "    <tr>\n",
       "      <th>1</th>\n",
       "      <td>1304</td>\n",
       "      <td>canceled</td>\n",
       "      <td>2015-03-10</td>\n",
       "      <td>2015-06-17</td>\n",
       "      <td>99</td>\n",
       "      <td>True</td>\n",
       "      <td>True</td>\n",
       "    </tr>\n",
       "    <tr>\n",
       "      <th>2</th>\n",
       "      <td>1101</td>\n",
       "      <td>current</td>\n",
       "      <td>2015-02-25</td>\n",
       "      <td></td>\n",
       "      <td></td>\n",
       "      <td>True</td>\n",
       "      <td>False</td>\n",
       "    </tr>\n",
       "  </tbody>\n",
       "</table>\n",
       "</div>"
      ],
      "text/plain": [
       "  account_key    status   join_date cancel_date days_to_cancel is_udacity  \\\n",
       "0        1304  canceled  2015-01-10  2015-03-10             59       True   \n",
       "1        1304  canceled  2015-03-10  2015-06-17             99       True   \n",
       "2        1101   current  2015-02-25                                  True   \n",
       "\n",
       "  is_canceled  \n",
       "0        True  \n",
       "1        True  \n",
       "2       False  "
      ]
     },
     "execution_count": 60,
     "metadata": {},
     "output_type": "execute_result"
    }
   ],
   "source": [
    "import unicodecsv\n",
    "import pandas as pd\n",
    "\n",
    "#read data from CSV file and make it to lists\n",
    "def read_csv(filename):\n",
    "    with open(filename, 'rb') as f:\n",
    "        reader = unicodecsv.DictReader(f)\n",
    "        return list(reader)\n",
    "\n",
    "# make array is contain student unique id ***require table has key \"account_key\"\n",
    "def unique_stu_id(table):\n",
    "    table_id = []\n",
    "    for data in table:\n",
    "        table_id.append(data['account_key'])\n",
    "    return set(table_id)\n",
    "    \n",
    "# 3 table\n",
    "enrollments = read_csv('../data/enrollments.csv')\n",
    "daily_engagement = read_csv('../data/daily_engagement.csv')\n",
    "project_submissions = read_csv('../data/project_submissions.csv')\n",
    "\n",
    "# fix daily engagement table 'acct' to 'account_key'\n",
    "for engage in daily_engagement:\n",
    "    engage['account_key'] = engage['acct']\n",
    "    del engage['acct']\n",
    "\n",
    "# Enrollment\n",
    "enrollment_unique_stu_id = unique_stu_id(enrollments)\n",
    "\n",
    "# Engagement\n",
    "engagement_unique_stu_id = unique_stu_id(daily_engagement)\n",
    "\n",
    "student_not_engage_id = enrollment_unique_stu_id - engagement_unique_stu_id;\n",
    "student_not_engage_table = [];\n",
    "for enrol in enrollments: \n",
    "    if enrol['account_key'] in student_not_engage_id and enrol['days_to_cancel'] != '0':\n",
    "        student_not_engage_table.append(enrol)\n",
    "\n",
    "pd.DataFrame(student_not_engage_table)"
   ]
  },
  {
   "cell_type": "markdown",
   "metadata": {},
   "source": [
    "## 13 : Tracking Down The Remaining Problems\n",
    "\n",
    "จากที่เห็นในข้อ 12 จะเห็นว่าทั้ง 3 คน is_udacity = True \n",
    "ซึ่งถ้าถามทีม Data ของ udacity แล้วจะได้ความว่า is_udacity = True คือ account test ต้องกรองออก\n",
    "\n",
    "**ทำ Filter กรอง account test ออก**"
   ]
  },
  {
   "cell_type": "code",
   "execution_count": 61,
   "metadata": {},
   "outputs": [
    {
     "name": "stdout",
     "output_type": "stream",
     "text": [
      "1296\n"
     ]
    },
    {
     "data": {
      "text/html": [
       "<div>\n",
       "<style>\n",
       "    .dataframe thead tr:only-child th {\n",
       "        text-align: right;\n",
       "    }\n",
       "\n",
       "    .dataframe thead th {\n",
       "        text-align: left;\n",
       "    }\n",
       "\n",
       "    .dataframe tbody tr th {\n",
       "        vertical-align: top;\n",
       "    }\n",
       "</style>\n",
       "<table border=\"1\" class=\"dataframe\">\n",
       "  <thead>\n",
       "    <tr style=\"text-align: right;\">\n",
       "      <th></th>\n",
       "    </tr>\n",
       "  </thead>\n",
       "  <tbody>\n",
       "  </tbody>\n",
       "</table>\n",
       "</div>"
      ],
      "text/plain": [
       "Empty DataFrame\n",
       "Columns: []\n",
       "Index: []"
      ]
     },
     "execution_count": 61,
     "metadata": {},
     "output_type": "execute_result"
    }
   ],
   "source": [
    "import unicodecsv\n",
    "import pandas as pd\n",
    "\n",
    "#read data from CSV file and make it to lists\n",
    "def read_csv(filename):\n",
    "    with open(filename, 'rb') as f:\n",
    "        reader = unicodecsv.DictReader(f)\n",
    "        return list(reader)\n",
    "\n",
    "# make array is contain student unique id ***require table has key \"account_key\"\n",
    "def unique_stu_id(table):\n",
    "    table_id = []\n",
    "    for data in table:\n",
    "        table_id.append(data['account_key'])\n",
    "    return set(table_id)\n",
    "\n",
    "# make array is contain udacity test unique id ***require table has key \"account_key\"\n",
    "def test_accounts_id(table):\n",
    "    table_id = []\n",
    "    for data in table:\n",
    "        if data['is_udacity'] == 'True':\n",
    "            table_id.append(data['account_key'])\n",
    "    return set(table_id)\n",
    "\n",
    "def non_udacity_account(data,test):\n",
    "    non_test = []\n",
    "    for x in data:\n",
    "        if x['account_key'] not in test:\n",
    "            non_test.append(x)\n",
    "    return non_test\n",
    "    \n",
    "    \n",
    "# 3 table\n",
    "enrollments = read_csv('../data/enrollments.csv') #1640\n",
    "daily_engagement = read_csv('../data/daily_engagement.csv') #136240\n",
    "project_submissions = read_csv('../data/project_submissions.csv') #3642\n",
    "# test students id   \n",
    "enroll_test      = test_accounts_id(enrollments) #6\n",
    "enrollments      = non_udacity_account(enrollments,enroll_test)\n",
    "\n",
    "# fix daily engagement table 'acct' to 'account_key'\n",
    "for engage in daily_engagement:\n",
    "    engage['account_key'] = engage['acct']\n",
    "    del engage['acct']\n",
    "\n",
    "# Enrollment\n",
    "enrollment_unique_stu_id = unique_stu_id(enrollments)\n",
    "print(len(enrollment_unique_stu_id))\n",
    "\n",
    "# Engagement\n",
    "engagement_unique_stu_id = unique_stu_id(daily_engagement)\n",
    "student_not_engage_id = enrollment_unique_stu_id - engagement_unique_stu_id;\n",
    "student_not_engage_table = [];\n",
    "for enrol in enrollments: \n",
    "    if enrol['account_key'] in student_not_engage_id and enrol['days_to_cancel'] != '0':\n",
    "        student_not_engage_table.append(enrol)\n",
    "\n",
    "pd.DataFrame(student_not_engage_table)"
   ]
  },
  {
   "cell_type": "markdown",
   "metadata": {},
   "source": [
    "## Q14 : Refining The Question (ขัดเกลาคำถาม)\n",
    "\n",
    "ณ จุดนี้เราจะย้ายจาก Wrangling Phase มาอยู่ที่ Explore Phase\n",
    "\n",
    "หลังจากกรองข้อมูลขยะออกไปแล้ว ก็มาตั้งคำถามกับข้อมูลกัน ให้ลึกขึ้นๆ เช่น\n",
    "1. ความแตกต่างของจำนวนการเข้าเรียนในตาราง daily_engagement ของคนที่ผ่านกับไม่ผ่านโปรเจคแรก\n",
    "\n",
    "จากคำถามนี้ เมื่อพิจารณา daily_engagement จะมีปัญหาคือ\n",
    "1. This will include data from after project submission\n",
    "2. This compress data from different leght of time\n",
    "3. Include engagement of course not related to the first project.\n",
    "\n",
    "ดังนั้นจึงปรับคำถามใหม่หน่อย\n",
    "**Revision(ปรับปรุงใหม่)**\n",
    "\n",
    "** Get start **\n",
    "1. สร้าง dict ของ student ที่มีคุณสมบัติ อย่างใดอย่างหนึ่งนี้\n",
    "    * ยังไม่ cancel\n",
    "    * วันที่ enroll ทั้งหมดมากกว่า 7 วัน\n",
    "\n",
    "Key : account_key, Values : enrollment_date\n",
    "NameDict : paid_students\n"
   ]
  },
  {
   "cell_type": "code",
   "execution_count": 62,
   "metadata": {},
   "outputs": [
    {
     "name": "stdout",
     "output_type": "stream",
     "text": [
      "995\n"
     ]
    }
   ],
   "source": [
    "enrollments = read_csv('../data/enrollments.csv') #1640\n",
    "\n",
    "# remove test\n",
    "enroll_test      = test_accounts_id(enrollments) #6\n",
    "enrollments      = non_udacity_account(enrollments,enroll_test)\n",
    "\n",
    "# unique student enroll id (1296)\n",
    "unique_stu_enrollment_id = unique_stu_id(enrollments)\n",
    "\n",
    "# unique enroll (1622) \n",
    "for enrol in enrollments: \n",
    "    if enrol['account_key'] not in unique_stu_enrollment_id:\n",
    "        del enrol         \n",
    "\n",
    "# paid students [one key(id) per one value]\n",
    "paid_students = {}\n",
    "for enroll in enrollments: \n",
    "    if not enroll['days_to_cancel'] or int(enroll['days_to_cancel']) > 7:\n",
    "        if enroll['account_key'] not in paid_students or enroll['join_date'] > paid_students[enroll['account_key']]:\n",
    "            paid_students[enroll['account_key']] = enroll['join_date']\n",
    "\n",
    "print(len(paid_students))"
   ]
  },
  {
   "cell_type": "markdown",
   "metadata": {},
   "source": [
    "## Q15 : Getting Data From First Week\n",
    "\n",
    "ต่อจากข้อ 14 ต้องพิจารณาตาราง daily_engagement เพิ่ม โดยเอาเฉพาะข้อมูลของ paid student(จากข้อที่แล้ว) และพิจารณาเฉพาะ engagement ใน first week"
   ]
  },
  {
   "cell_type": "code",
   "execution_count": 63,
   "metadata": {},
   "outputs": [
    {
     "name": "stdout",
     "output_type": "stream",
     "text": [
      "6919\n"
     ]
    }
   ],
   "source": [
    "# Variable\n",
    "# - paid_students\n",
    "# - daily_engagement\n",
    "#------------------------------\n",
    "from datetime import datetime\n",
    "\n",
    "def remove_free_trial_cancels(data):\n",
    "    new_data = []\n",
    "    for dp in data:\n",
    "        if dp['account_key'] in paid_students:\n",
    "            new_data.append(dp)\n",
    "    return new_data\n",
    "    \n",
    "\n",
    "def within_one_week(join_date,engagement_date):\n",
    "    date_format = \"%Y-%m-%d\"\n",
    "    delta_time  = datetime.strptime(engagement_date, date_format) - datetime.strptime(join_date, date_format)\n",
    "    return delta_time.days < 7 and delta_time.days >= 0\n",
    "\n",
    "# Paid_engagement\n",
    "paid_engagement = remove_free_trial_cancels(daily_engagement)\n",
    "\n",
    "# Paid_engagement in 1st week\n",
    "paid_engagement_in_first_week = []\n",
    "for engagement in paid_engagement:\n",
    "    if within_one_week(paid_students[engagement['account_key']],engagement['utc_date']):\n",
    "        paid_engagement_in_first_week.append(engagement) \n",
    "\n",
    "print(len(paid_engagement_in_first_week))"
   ]
  },
  {
   "cell_type": "markdown",
   "metadata": {},
   "source": [
    "## 17 : Exploring Student Engagement\n",
    "\n",
    "group ข้อมูล engagement เป็นของแต่ละคน แล้วพิจาณาเวลาเรียนทั้งหมดของแต่ละคน และเวลาเรียนเฉลี่ยของคอร์ส\n"
   ]
  },
  {
   "cell_type": "code",
   "execution_count": 210,
   "metadata": {},
   "outputs": [
    {
     "name": "stdout",
     "output_type": "stream",
     "text": [
      "Populating the interactive namespace from numpy and matplotlib\n",
      "MEAN : 306.708326753\n",
      "SD : 412.996933409\n",
      "MIN : 0.0\n",
      "MAX : 3564.7332645\n"
     ]
    },
    {
     "data": {
      "image/png": "[encoded data removed]",
      "text/plain": [
       "<matplotlib.figure.Figure at 0x10a3ecef0>"
      ]
     },
     "metadata": {},
     "output_type": "display_data"
    }
   ],
   "source": [
    "# Variable\n",
    "# - paid_engagement_in_first_week\n",
    "#------------------------------\n",
    "%pylab inline\n",
    "from collections import defaultdict\n",
    "import matplotlib.pyplot as plt\n",
    "import numpy as np\n",
    "\n",
    "\n",
    "def group_data(data, keyname):\n",
    "    group_by_keyname = defaultdict(list)\n",
    "    for data_point in data:\n",
    "        key = data_point[keyname]\n",
    "        group_by_keyname[key].append(data_point) \n",
    "    return group_by_keyname\n",
    "\n",
    "def sum_grouped_items(grouped_data, field_name):    \n",
    "    total_value = {}\n",
    "    for key, values in grouped_data.items():\n",
    "        total = 0\n",
    "        for value in values:\n",
    "            total += float(value[field_name])\n",
    "        total_value[key] = total\n",
    "    return total_value\n",
    "\n",
    "def describe_data(data):    \n",
    "    total_values = list(data.values())\n",
    "    print(\"MEAN :\", np.mean(total_values))\n",
    "    print(\"SD :\", np.std(total_values))\n",
    "    print(\"MIN :\", np.min(total_values))\n",
    "    print(\"MAX :\", np.max(total_values))\n",
    "    plt.hist(list(data.values()))\n",
    "\n",
    "# Engagement in 1st week group by 'account_key'\n",
    "engagement_by_account = group_data(paid_engagement_in_first_week, 'account_key')\n",
    "\n",
    "# Total minute by account\n",
    "total_minute_by_account = sum_grouped_items(engagement_by_account, 'total_minutes_visited')\n",
    "\n",
    "# Describe\n",
    "describe_data(total_minute_by_account)\n",
    "\n",
    "# pandas print table series\n",
    "# pd.Series(total_minute_by_account)"
   ]
  },
  {
   "cell_type": "markdown",
   "metadata": {},
   "source": [
    "## Q18 : Debugging Data Analysis Code\n",
    "\n",
    " debug data analysis code \n",
    " \n",
    " STEP : \n",
    " 1. Identify surprising data point\n",
    " 2. Print out one or a few surprising points\n",
    " 3. Fix any problem you find\n",
    " \n",
    " จากข้อ 17 \n",
    " จะเห็นว่าที่ MAX Time ต้องเรียนวันละ 25 hr (ใน 7 วัน) ถึงจะเรียนได้แบบนั้น แม่งมีไรแปลกๆละ\n",
    " ดู engagement ของคนที่ได้ Max สักหน่อยน่าจะดี"
   ]
  },
  {
   "cell_type": "markdown",
   "metadata": {},
   "source": [
    "จะเห็นว่าเวลา \"utc_date\" แม่งกินช่วงหลายเดือนมาก แสดงว่า function within_one_week นี่น่าจะผิด เดาคือเพราะแม่งนับ engagement ของ enrollment แรกๆที่เคยเข้าเรียนแล้ว cancel ด้วย "
   ]
  },
  {
   "cell_type": "markdown",
   "metadata": {},
   "source": [
    "## Q19: Lessons Completed In First Week\n",
    "\n",
    "เปลี่ยนจาก minute เป็น lesson"
   ]
  },
  {
   "cell_type": "code",
   "execution_count": 211,
   "metadata": {},
   "outputs": [
    {
     "name": "stdout",
     "output_type": "stream",
     "text": [
      "MEAN : 1.63618090452\n",
      "SD : 3.00256129983\n",
      "MIN : 0.0\n",
      "MAX : 36.0\n"
     ]
    },
    {
     "data": {
      "image/png": "[encoded data removed]",
      "text/plain": [
       "<matplotlib.figure.Figure at 0x10a37c5c0>"
      ]
     },
     "metadata": {},
     "output_type": "display_data"
    }
   ],
   "source": [
    "# Variable\n",
    "# - engagement_by_account\n",
    "\n",
    "total_lesson_by_account = sum_grouped_items(engagement_by_account, 'lessons_completed')\n",
    "describe_data(total_lesson_by_account)"
   ]
  },
  {
   "cell_type": "markdown",
   "metadata": {
    "collapsed": true
   },
   "source": [
    "## Q20 : Number Of Visits In The First Week\n",
    "\n",
    "นับจำนวนวันที่เข้าเรียนของแต่ละคนในอาทิตย์แรก\n"
   ]
  },
  {
   "cell_type": "code",
   "execution_count": 212,
   "metadata": {},
   "outputs": [
    {
     "name": "stdout",
     "output_type": "stream",
     "text": [
      "MEAN : 2.86733668342\n",
      "SD : 2.25519800292\n",
      "MIN : 0\n",
      "MAX : 7\n"
     ]
    },
    {
     "data": {
      "image/png": "[encoded data removed]",
      "text/plain": [
       "<matplotlib.figure.Figure at 0x10a0fc908>"
      ]
     },
     "metadata": {},
     "output_type": "display_data"
    }
   ],
   "source": [
    "# Variable\n",
    "# - engagement_by_account\n",
    "\n",
    "def total_has_visited(grouped_data, field_name):    \n",
    "    total_value = {}\n",
    "    for key, values in grouped_data.items():\n",
    "        total = 0\n",
    "        for value in values:\n",
    "            has_visited = 1 if float(value[field_name]) > 0 else 0\n",
    "            total += has_visited\n",
    "        total_value[key] = total\n",
    "    return total_value\n",
    "\n",
    "total_has_visited_in_one_week = total_has_visited(engagement_by_account,'num_courses_visited')\n",
    "describe_data(total_has_visited_in_one_week)"
   ]
  },
  {
   "cell_type": "markdown",
   "metadata": {
    "collapsed": true
   },
   "source": [
    "## Q21 : Splitting Out Passing Students\n",
    "split the paid engagement data into two lists:\n",
    "* Records for students who pass the subway project at some point (name this variable **passing_engagement**)\n",
    "* Records for students who do not (name this variable **non_passing_engagement**)\n",
    "\n",
    "หาคนที่ผ่านโปรเจคแรก \n",
    "แต่มีปัญหานิดหน่อยคือ ข้อมูลโปรเจคแรกนั้นมี 2 id (เปลี่ยน id ระหว่างทาง run ระบบ) ตามที่โจทย์ให้มา ข้างล่าง"
   ]
  },
  {
   "cell_type": "code",
   "execution_count": 213,
   "metadata": {},
   "outputs": [
    {
     "name": "stdout",
     "output_type": "stream",
     "text": [
      "Passing Account(1st Project) : 647\n",
      "None Passing Account(1st Project) : 33\n",
      "Passing Engagement(1st Project) : 4527\n",
      "Non Passing Engagement(1st Project) : 2392\n"
     ]
    }
   ],
   "source": [
    "# Variable\n",
    "# - paid_engagement_in_first_week\n",
    "# - project_submissions\n",
    "import pandas as pd\n",
    "import numpy as np\n",
    "\n",
    "# id ของ project 1 ทั้งหมด\n",
    "subway_project_lesson_keys = ['746169184','3176718735'] \n",
    "\n",
    "# พิจารณาเฉพาะ Paid Submission ไม่เอาค่า Test\n",
    "paid_submissions = remove_free_trial_cancels(project_submissions)\n",
    "\n",
    "# จาก paid submission ทั้งหมด \n",
    "# - เอาแค่ submission ของ 1st Project\n",
    "# - หา account id ทั้งหมดที่ส่ง project 1\n",
    "# - account id ทั้งหมดที่ผ่าน project 1\n",
    "all_account_key = set()\n",
    "passing_account_key = set()\n",
    "for project in paid_submissions:\n",
    "    if (project['lesson_key'] in subway_project_lesson_keys):\n",
    "        all_account_key.add(project['account_key'])\n",
    "        if (project['assigned_rating'] == 'PASSED' or project['assigned_rating'] == 'DISTINCTION'):\n",
    "            passing_account_key.add(project['account_key'])\n",
    "\n",
    "non_passing_account_key = all_account_key - passing_account_key\n",
    "print(\"Passing Account(1st Project) :\",len(passing_account_key))\n",
    "print(\"None Passing Account(1st Project) :\",len(non_passing_account_key))\n",
    "\n",
    "# หาดูว่าใน paid_engagement_in_first_week อันไหนอยู่กลุ่มคนผ่าน อันไหนอยู่กลุ่มคนไม่ผ่าน \n",
    "passing_engagement = []\n",
    "non_passing_engagement = []\n",
    "for engagement in paid_engagement_in_first_week:\n",
    "    if (engagement['account_key'] in passing_account_key):\n",
    "        passing_engagement.append(engagement)\n",
    "    else:\n",
    "        non_passing_engagement.append(engagement)\n",
    "\n",
    "print(\"Passing Engagement(1st Project) :\",len(passing_engagement))\n",
    "print(\"Non Passing Engagement(1st Project) :\",len(non_passing_engagement))"
   ]
  },
  {
   "cell_type": "markdown",
   "metadata": {},
   "source": [
    "## Q22 : Comparing Students who Pass to Those Who Don't\n",
    "\n",
    "หา metric ที่น่าสนใจใช้วัด \n",
    "ก่อนนี้เราเคยดูกับ \n",
    "- minutes spent\n",
    "- lessons completed\n",
    "- days visited\n",
    "- other"
   ]
  },
  {
   "cell_type": "code",
   "execution_count": 214,
   "metadata": {
    "scrolled": false
   },
   "outputs": [
    {
     "name": "stdout",
     "output_type": "stream",
     "text": [
      "=======MINUTE SPENT=======\n",
      "-------Passing-------\n",
      "MEAN : 394.586046484\n",
      "SD : 448.499519327\n",
      "MIN : 0.0\n",
      "MAX : 3564.7332645\n",
      "----None Passing----\n",
      "MEAN : 143.326474267\n",
      "SD : 269.538619011\n",
      "MIN : 0.0\n",
      "MAX : 1768.52274933\n",
      "\n",
      "\n",
      "=======LESSONS COMPLETED=======\n",
      "-------Passing-------\n",
      "MEAN : 2.05255023184\n",
      "SD : 3.14222705558\n",
      "MIN : 0.0\n",
      "MAX : 36.0\n",
      "----None Passing----\n",
      "MEAN : 0.862068965517\n",
      "SD : 2.54915994183\n",
      "MIN : 0.0\n",
      "MAX : 27.0\n",
      "\n",
      "\n",
      "=======DAYS VISITED=======\n",
      "-------Passing-------\n",
      "MEAN : 3.38485316847\n",
      "SD : 2.25882147092\n",
      "MIN : 0\n",
      "MAX : 7\n",
      "----None Passing----\n",
      "MEAN : 1.90517241379\n",
      "SD : 1.90573144136\n",
      "MIN : 0\n",
      "MAX : 7\n"
     ]
    },
    {
     "data": {
      "image/png": "[encoded data removed]",
      "text/plain": [
       "<matplotlib.figure.Figure at 0x10a5dedd8>"
      ]
     },
     "metadata": {},
     "output_type": "display_data"
    }
   ],
   "source": [
    "# ------------- 22 ---------------\n",
    "# Variable\n",
    "# - all_account_key\n",
    "# - passing_account_key\n",
    "# - passing_engagement\n",
    "# - non_passing_engagement\n",
    "\n",
    "# Group Data by Account\n",
    "passing_engagement_by_account = group_data(passing_engagement,'account_key')\n",
    "non_passing_engagement_by_account = group_data(non_passing_engagement,'account_key')\n",
    "\n",
    "# Minutes Spent\n",
    "passing_total_minute_by_account = sum_grouped_items(passing_engagement_by_account, 'total_minutes_visited')\n",
    "print('=======MINUTE SPENT=======')\n",
    "print('-------Passing-------')\n",
    "describe_data(passing_total_minute_by_account)\n",
    "non_passing_total_minute_by_account = sum_grouped_items(non_passing_engagement_by_account, 'total_minutes_visited')\n",
    "print('----None Passing----')\n",
    "describe_data(non_passing_total_minute_by_account)\n",
    "\n",
    "# Lesson Complete\n",
    "passing_total_lesson_by_account = sum_grouped_items(passing_engagement_by_account, 'lessons_completed')\n",
    "print('\\n')\n",
    "print('=======LESSONS COMPLETED=======')\n",
    "print('-------Passing-------')\n",
    "describe_data(passing_total_lesson_by_account)\n",
    "non_passing_total_lesson_by_account = sum_grouped_items(non_passing_engagement_by_account, 'lessons_completed')\n",
    "print('----None Passing----')\n",
    "describe_data(non_passing_total_lesson_by_account)\n",
    "\n",
    "# Days Visited\n",
    "print('\\n')\n",
    "print('=======DAYS VISITED=======')\n",
    "print('-------Passing-------')\n",
    "passing_total_days_by_account = total_has_visited(passing_engagement_by_account,'num_courses_visited')\n",
    "describe_data(passing_total_days_by_account)\n",
    "non_passing_total_days_by_account = total_has_visited(non_passing_engagement_by_account, 'num_courses_visited')\n",
    "print('----None Passing----')\n",
    "describe_data(non_passing_total_days_by_account)"
   ]
  },
  {
   "cell_type": "markdown",
   "metadata": {},
   "source": [
    "จากข้างบนถ้าให้เลือกปริมาณสักอย่างที่จะใช้แยกประเภทคนผ่าน/ไม่ผ่าน น่าจะเลือก minute ดีสุดเพราะค่าเฉลี่ยต่างกันมากเกิน 2 เท่า แล้วก็ดู make sense ในโลกความจริงด้วย\n"
   ]
  },
  {
   "cell_type": "markdown",
   "metadata": {},
   "source": [
    "## Q23 : Making Histograms\n",
    "หลังจากเรารู้ค่าสถิติเบื้องต้นไปแล้ว สิ่งที่น่าสนใจอีกอย่างคือ จำนวนความถี่ของแต่ละค่า แสดงออกมาเป็น visualize จะเข้าใจง่ายกว่า\n",
    "\n",
    "#### Lib\n",
    "* matplotlib"
   ]
  },
  {
   "cell_type": "code",
   "execution_count": 215,
   "metadata": {},
   "outputs": [
    {
     "data": {
      "text/plain": [
       "(array([ 3.,  0.,  0.,  2.,  0.,  0.,  2.,  0.,  0.,  1.]),\n",
       " array([ 1. ,  1.3,  1.6,  1.9,  2.2,  2.5,  2.8,  3.1,  3.4,  3.7,  4. ]),\n",
       " <a list of 10 Patch objects>)"
      ]
     },
     "execution_count": 215,
     "metadata": {},
     "output_type": "execute_result"
    },
    {
     "data": {
      "image/png": "[encoded data removed]",
      "text/plain": [
       "<matplotlib.figure.Figure at 0x10a69a710>"
      ]
     },
     "metadata": {},
     "output_type": "display_data"
    }
   ],
   "source": [
    "import matplotlib.pyplot as plt\n",
    "\n",
    "data = [1, 2, 1, 3, 3, 1, 4, 2]\n",
    "\n",
    "# Plot Histograms\n",
    "plt.hist(data)"
   ]
  },
  {
   "cell_type": "markdown",
   "metadata": {},
   "source": [
    "นำมาลองกับข้อมูลนักเรียนที่ ผ่าน/ไม่ผ่าน"
   ]
  },
  {
   "cell_type": "code",
   "execution_count": 216,
   "metadata": {
    "scrolled": false
   },
   "outputs": [
    {
     "data": {
      "text/plain": [
       "(array([ 272.,   34.,   17.,    9.,    6.,    2.,    1.,    5.,    0.,    2.]),\n",
       " array([    0.        ,   176.85227493,   353.70454987,   530.5568248 ,\n",
       "          707.40909973,   884.26137467,  1061.1136496 ,  1237.96592453,\n",
       "         1414.81819947,  1591.6704744 ,  1768.52274933]),\n",
       " <a list of 10 Patch objects>)"
      ]
     },
     "execution_count": 216,
     "metadata": {},
     "output_type": "execute_result"
    },
    {
     "data": {
      "image/png": "[encoded data removed]",
      "text/plain": [
       "<matplotlib.figure.Figure at 0x10a78a320>"
      ]
     },
     "metadata": {},
     "output_type": "display_data"
    }
   ],
   "source": [
    "# ------------- 23.1 ---------------\n",
    "# Variable\n",
    "# - passing_total_minute_by_account\n",
    "# - non_passing_total_minute_by_account\n",
    "\n",
    "# \n",
    "# เอาเฉพาะค่า Values ใช้ list(d.values())\n",
    "# \n",
    "\n",
    "# Minutes Spent\n",
    "plt.hist(list(passing_total_minute_by_account.values()))\n",
    "plt.hist(list(non_passing_total_minute_by_account.values()))"
   ]
  },
  {
   "cell_type": "code",
   "execution_count": 217,
   "metadata": {},
   "outputs": [
    {
     "data": {
      "text/plain": [
       "(array([ 317.,   17.,    6.,    4.,    1.,    1.,    0.,    1.,    0.,    1.]),\n",
       " array([  0. ,   2.7,   5.4,   8.1,  10.8,  13.5,  16.2,  18.9,  21.6,\n",
       "         24.3,  27. ]),\n",
       " <a list of 10 Patch objects>)"
      ]
     },
     "execution_count": 217,
     "metadata": {},
     "output_type": "execute_result"
    },
    {
     "data": {
      "image/png": "[encoded data removed]",
      "text/plain": [
       "<matplotlib.figure.Figure at 0x10a6a2a58>"
      ]
     },
     "metadata": {},
     "output_type": "display_data"
    }
   ],
   "source": [
    "# ------------- 23.2 ---------------\n",
    "# Variable\n",
    "# - passing_total_lesson_by_account\n",
    "# - non_passing_total_lesson_by_account\n",
    "\n",
    "# Lesson Complete\n",
    "plt.hist(list(passing_total_lesson_by_account.values()))\n",
    "plt.hist(list(non_passing_total_lesson_by_account.values()))\n"
   ]
  },
  {
   "cell_type": "code",
   "execution_count": 218,
   "metadata": {},
   "outputs": [
    {
     "data": {
      "text/plain": [
       "(array([ 97.,  90.,  56.,   0.,  41.,  15.,   0.,  24.,  17.,   8.]),\n",
       " array([ 0. ,  0.7,  1.4,  2.1,  2.8,  3.5,  4.2,  4.9,  5.6,  6.3,  7. ]),\n",
       " <a list of 10 Patch objects>)"
      ]
     },
     "execution_count": 218,
     "metadata": {},
     "output_type": "execute_result"
    },
    {
     "data": {
      "image/png": "[encoded data removed]",
      "text/plain": [
       "<matplotlib.figure.Figure at 0x10a72cbe0>"
      ]
     },
     "metadata": {},
     "output_type": "display_data"
    }
   ],
   "source": [
    "# ------------- 23.3 ---------------\n",
    "# Variable\n",
    "# - passing_total_days_by_account\n",
    "# - non_passing_total_days_by_account\n",
    "\n",
    "# Days Visited\n",
    "plt.hist(list(passing_total_days_by_account.values()))\n",
    "plt.hist(list(non_passing_total_days_by_account.values()))"
   ]
  },
  {
   "cell_type": "markdown",
   "metadata": {},
   "source": [
    "## Q24 : Are you results just noise?\n",
    "\n",
    "มาถึงจุดนี้เราน่าจะได้ข้อสรุปแล้ว (ถ้าคิดว่าผลของเราไม่มี noise อะไรแล้วนะ)\n",
    "\n",
    "#### Process ข้อ 4\n",
    "* Conclution\n",
    "* or Prediction\n",
    "\n",
    "อย่าง Project นี้เราอาจจะสรุปอย่างหยาบๆว่า\n",
    "\n",
    "**Students who pass the subway project spend more minute in the classroom during their first week.**\n",
    "\n",
    "แต่นี่คือความต่างจริงๆหรือเป็นผลที่มาจาก noise ใน data?\n",
    "\n",
    "อย่างไรก็ตามบางปริมาณอาจจะไม่มีความต่่างระหว่างคนผ่านกับไม่ผ่าน (ทั้งๆที่เราหวังไว้ว่าค่าทั้งสองต้องต่างกัน)\n",
    "\n",
    "เราสามารถบอกได้อย่างไรว่าสิ่งที่เราเห็นมันคือ true difference จริงๆ หรือเกิดมาจาก noise ของ data\n",
    "\n",
    "ในโปรเจคนี้ความแตกต่างที่เราเห็นมันชัดเจน(make sense) อาจจะยากสักหน่อยถ้าจะคิดว่าความต่างนี้มันเกิดมาจาก noise\n",
    "\n",
    "แต่เราก็ไม่สามารถใช้ sense ได้กับทุกสถานการณ์\n",
    "\n",
    "**ถ้าอยาก check อย่างจริงจัง เราควรลองผลลัพท์ โดยการ random สถานการณ์ดูหลายๆแบบ ว่ายังให้ผลเหมือนเดิมไหม? ดังนั้นต้องใช้ statistics **\n",
    "\n",
    "แน่นอนโปรเจคนี้จะไม่ลงลึก stat แต่ระลึกไว้เสมอว่า ผลลัพธ์ที่เราสรุปได้ตอนนี้เป็นแค่ **ข้อสรุปเบื้องต้น ที่ไม่มีการ validate ใดๆทั้งสิ้น**"
   ]
  },
  {
   "cell_type": "markdown",
   "metadata": {},
   "source": [
    "## Q25 : Correlation Does not Imply Causation\n",
    "\n",
    "ถ้า A และ B มีความสัมพันธ์ (Correlation) ต่อกันหมายความว่าถ้าเราเปลี่ยนค่า A ค่า B จะเปลี่ยนด้วย\n",
    "\n",
    "เมื่อ\n",
    "\n",
    "\"นักเรียนที่ผ่านโปรเจคแรกคือคนที่เข้าเรียนหลายหลังในสัปดาห์แรก\" > *Correlation(ความสัมพันธ์)ได้จาก Data*\n",
    "\n",
    "ดังนั้นอาจจะบอกได้ว่า\n",
    "\n",
    "**จำนวนการเข้าเรียนในสัปดาห์แรกส่งผลต่อการผ่านโปรเจค** > *Causation(สาเหตุ)*\n",
    "\n",
    "จากข้อสรุปข้างบน ถ้าเราอยากให้คนผ่านเพิ่มมากขึ้นอาจจะทำได้โดยการส่งเมลแจ้งเตือนนักเรียนไม่ให้ลืมเข้ามาเรียน\n",
    "\n",
    "แม้ว่าข้อสรุปนี้ดูจะเป็นไปได้ **แต่!** จริงๆแล้วเราไม่สามารถสรุปได้ชัวๆจากข้อมูลแค่นี้ เพราะบางทีอาจมีตัวแปรอื่นซ่อนอยู่ที่ส่งผลต่อสองตัวแปรนี้นี้ทั้งคู่ ไม่ใช่ว่าสองตัวแปรนี้มี correlation กัน\n",
    "\n",
    "ตัวอย่างที่บอก : http://tylervigen.com/spurious-correlations\n",
    "\n",
    "Third factors ที่อาจจะส่งผลต่อ จำนวนเข้าเรียน และ การผ่านโปรเจค\n",
    "\n",
    "* Level of interest (ระดับความสนใจ) ถ้าเราสรุปทางนี้ ทางที่ดีกว่าส่งเมลแจ้งเตือน เราอาจจะให้เค้าเรียนอะไรบางอย่างที่เขาสนใจ\n",
    "* Background knowledge ถ้ามาทางนี้เราก็อาจจะต้องเปลี่ยนการเรียนให้ไม่ติด(แม้ไม่รู้โปรแกรม) ดูเฉลยได้\n",
    "\n",
    "ซึ่งเราไม่สามารถสรุปได้จริงๆเลยว่าอะไรกันแน่ที่มีความสัมพันธ์(correlation)ส่งผลต่อการผ่านโปรเจค(causation)\n",
    "\n",
    "### วิธีการช่วยเพิ่มความมั่นใจว่าสมมติฐานของเราไม่มั่วคือ run an A//B test!!!"
   ]
  },
  {
   "cell_type": "markdown",
   "metadata": {},
   "source": [
    "## Q26 : Predicting Based On Many Features"
   ]
  },
  {
   "cell_type": "code",
   "execution_count": null,
   "metadata": {
    "collapsed": true
   },
   "outputs": [],
   "source": []
  }
 ],
 "metadata": {
  "kernelspec": {
   "display_name": "Python 3",
   "language": "python",
   "name": "python3"
  },
  "language_info": {
   "codemirror_mode": {
    "name": "ipython",
    "version": 3
   },
   "file_extension": ".py",
   "mimetype": "text/x-python",
   "name": "python",
   "nbconvert_exporter": "python",
   "pygments_lexer": "ipython3",
   "version": "3.6.1"
  }
 },
 "nbformat": 4,
 "nbformat_minor": 2
}
